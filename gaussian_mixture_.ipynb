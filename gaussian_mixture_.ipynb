{
  "cells": [
    {
      "cell_type": "code",
      "source": [
        "!pip install pystan"
      ],
      "metadata": {
        "colab": {
          "base_uri": "https://localhost:8080/"
        },
        "id": "b6tnOYx2rZMG",
        "outputId": "55f8845c-7868-4443-8800-15c0c64b99a0"
      },
      "execution_count": 3,
      "outputs": [
        {
          "output_type": "stream",
          "name": "stdout",
          "text": [
            "Collecting pystan\n",
            "  Downloading pystan-3.8.0-py3-none-any.whl (13 kB)\n",
            "Requirement already satisfied: aiohttp<4.0,>=3.6 in /usr/local/lib/python3.10/dist-packages (from pystan) (3.9.1)\n",
            "Collecting clikit<0.7,>=0.6 (from pystan)\n",
            "  Downloading clikit-0.6.2-py2.py3-none-any.whl (91 kB)\n",
            "\u001b[2K     \u001b[90m━━━━━━━━━━━━━━━━━━━━━━━━━━━━━━━━━━━━━━━━\u001b[0m \u001b[32m91.8/91.8 kB\u001b[0m \u001b[31m3.5 MB/s\u001b[0m eta \u001b[36m0:00:00\u001b[0m\n",
            "\u001b[?25hCollecting httpstan<4.12,>=4.11 (from pystan)\n",
            "  Downloading httpstan-4.11.0-cp310-cp310-manylinux_2_17_x86_64.manylinux2014_x86_64.whl (43.8 MB)\n",
            "\u001b[2K     \u001b[90m━━━━━━━━━━━━━━━━━━━━━━━━━━━━━━━━━━━━━━━━\u001b[0m \u001b[32m43.8/43.8 MB\u001b[0m \u001b[31m8.6 MB/s\u001b[0m eta \u001b[36m0:00:00\u001b[0m\n",
            "\u001b[?25hRequirement already satisfied: numpy<2.0,>=1.19 in /usr/local/lib/python3.10/dist-packages (from pystan) (1.23.5)\n",
            "Collecting pysimdjson<6.0.0,>=5.0.2 (from pystan)\n",
            "  Downloading pysimdjson-5.0.2-cp310-cp310-manylinux_2_17_x86_64.manylinux2014_x86_64.whl (1.8 MB)\n",
            "\u001b[2K     \u001b[90m━━━━━━━━━━━━━━━━━━━━━━━━━━━━━━━━━━━━━━━━\u001b[0m \u001b[32m1.8/1.8 MB\u001b[0m \u001b[31m17.1 MB/s\u001b[0m eta \u001b[36m0:00:00\u001b[0m\n",
            "\u001b[?25hRequirement already satisfied: setuptools in /usr/local/lib/python3.10/dist-packages (from pystan) (67.7.2)\n",
            "Requirement already satisfied: attrs>=17.3.0 in /usr/local/lib/python3.10/dist-packages (from aiohttp<4.0,>=3.6->pystan) (23.1.0)\n",
            "Requirement already satisfied: multidict<7.0,>=4.5 in /usr/local/lib/python3.10/dist-packages (from aiohttp<4.0,>=3.6->pystan) (6.0.4)\n",
            "Requirement already satisfied: yarl<2.0,>=1.0 in /usr/local/lib/python3.10/dist-packages (from aiohttp<4.0,>=3.6->pystan) (1.9.4)\n",
            "Requirement already satisfied: frozenlist>=1.1.1 in /usr/local/lib/python3.10/dist-packages (from aiohttp<4.0,>=3.6->pystan) (1.4.1)\n",
            "Requirement already satisfied: aiosignal>=1.1.2 in /usr/local/lib/python3.10/dist-packages (from aiohttp<4.0,>=3.6->pystan) (1.3.1)\n",
            "Requirement already satisfied: async-timeout<5.0,>=4.0 in /usr/local/lib/python3.10/dist-packages (from aiohttp<4.0,>=3.6->pystan) (4.0.3)\n",
            "Collecting crashtest<0.4.0,>=0.3.0 (from clikit<0.7,>=0.6->pystan)\n",
            "  Downloading crashtest-0.3.1-py3-none-any.whl (7.0 kB)\n",
            "Collecting pastel<0.3.0,>=0.2.0 (from clikit<0.7,>=0.6->pystan)\n",
            "  Downloading pastel-0.2.1-py2.py3-none-any.whl (6.0 kB)\n",
            "Collecting pylev<2.0,>=1.3 (from clikit<0.7,>=0.6->pystan)\n",
            "  Downloading pylev-1.4.0-py2.py3-none-any.whl (6.1 kB)\n",
            "Requirement already satisfied: appdirs<2.0,>=1.4 in /usr/local/lib/python3.10/dist-packages (from httpstan<4.12,>=4.11->pystan) (1.4.4)\n",
            "Collecting marshmallow<4.0,>=3.10 (from httpstan<4.12,>=4.11->pystan)\n",
            "  Downloading marshmallow-3.20.1-py3-none-any.whl (49 kB)\n",
            "\u001b[2K     \u001b[90m━━━━━━━━━━━━━━━━━━━━━━━━━━━━━━━━━━━━━━━━\u001b[0m \u001b[32m49.4/49.4 kB\u001b[0m \u001b[31m5.5 MB/s\u001b[0m eta \u001b[36m0:00:00\u001b[0m\n",
            "\u001b[?25hCollecting webargs<9.0,>=8.0 (from httpstan<4.12,>=4.11->pystan)\n",
            "  Downloading webargs-8.3.0-py3-none-any.whl (31 kB)\n",
            "Requirement already satisfied: packaging>=17.0 in /usr/local/lib/python3.10/dist-packages (from marshmallow<4.0,>=3.10->httpstan<4.12,>=4.11->pystan) (23.2)\n",
            "Requirement already satisfied: idna>=2.0 in /usr/local/lib/python3.10/dist-packages (from yarl<2.0,>=1.0->aiohttp<4.0,>=3.6->pystan) (3.6)\n",
            "Installing collected packages: pylev, pysimdjson, pastel, marshmallow, crashtest, webargs, clikit, httpstan, pystan\n",
            "Successfully installed clikit-0.6.2 crashtest-0.3.1 httpstan-4.11.0 marshmallow-3.20.1 pastel-0.2.1 pylev-1.4.0 pysimdjson-5.0.2 pystan-3.8.0 webargs-8.3.0\n"
          ]
        }
      ]
    },
    {
      "cell_type": "code",
      "execution_count": 4,
      "metadata": {
        "id": "t-fsroKbrT6H"
      },
      "outputs": [],
      "source": [
        "import stan\n",
        "import pandas as pd\n",
        "import numpy as np\n",
        "import matplotlib\n",
        "import matplotlib.pyplot as plt\n",
        "matplotlib.rcParams['figure.figsize']=5,5\n",
        "plt.style.use('ggplot')"
      ]
    },
    {
      "cell_type": "code",
      "execution_count": 5,
      "metadata": {
        "id": "JMF3Z3_OrT6J"
      },
      "outputs": [],
      "source": [
        "# this is a work around found at\n",
        "# https://stackoverflow.com/questions/56154176/runtimeerror-asyncio-run-cannot-be-called-from-a-running-event-loop-in-spyd\n",
        "import nest_asyncio\n",
        "nest_asyncio.apply()"
      ]
    },
    {
      "cell_type": "markdown",
      "metadata": {
        "id": "x5Ie166rrT6J"
      },
      "source": [
        "## Generate data\n",
        "In scenarios like these, using a Gaussian mixture model enables us to model the overall distribution without knowing the specific origin of each data point. It's akin to measuring heights without prior knowledge of gender but acknowledging the potential existence of distinct groups characterized by varying means and variances. This approach helps in capturing the combined distribution and detecting potential underlying subpopulations without explicit identification of each individual's origin."
      ]
    },
    {
      "cell_type": "code",
      "execution_count": 6,
      "metadata": {
        "id": "ruA_FArnrT6L"
      },
      "outputs": [],
      "source": [
        "# Create data sampled from a mixture of gaussians\n",
        "# define the parameters\n",
        "np.random.seed(1)\n",
        "mu0 = 2\n",
        "sigma0 = 1.5\n",
        "mu1 = 5\n",
        "sigma1 = 1.3\n",
        "p = 0.8 # mixture parameter\n",
        "#sampling\n",
        "out = []\n",
        "bernoulli = np.random.binomial(1, p, size=1000)\n",
        "for i in range(len(bernoulli)):\n",
        "    if bernoulli[i] == 1:\n",
        "        out.append(np.random.normal(mu0,sigma0))\n",
        "    else:\n",
        "        out.append(np.random.normal(mu1,sigma1))"
      ]
    },
    {
      "cell_type": "code",
      "execution_count": 7,
      "metadata": {
        "colab": {
          "base_uri": "https://localhost:8080/",
          "height": 445
        },
        "id": "UrnXlsNErT6L",
        "outputId": "babf9b5a-5711-48ba-9df4-239af4b0a16b"
      },
      "outputs": [
        {
          "output_type": "display_data",
          "data": {
            "text/plain": [
              "<Figure size 500x500 with 1 Axes>"
            ],
            "image/png": "[encoded data removed]"
          },
          "metadata": {}
        }
      ],
      "source": [
        "# We plot the data without labels (as we would actually see it!)\n",
        "plt.hist(out, bins=30)\n",
        "plt.show()"
      ]
    },
    {
      "cell_type": "markdown",
      "metadata": {
        "id": "4cSJRkvLrT6M"
      },
      "source": [
        "### Implementing the Gaussian Mixture model\n",
        "This Stan code block outlines a Gaussian mixture model. It sets up parameters for two Gaussian distributions, defining means (mu[1] and mu[2]) ordered in ascending order and standard deviations (sigma[1] and sigma[2]). The theta parameter controls the mixture between these distributions. Priors are established for these parameters: normal distributions for means with a mean of 3 and standard deviation of 2, a normal distribution for standard deviations centered at 0 with a standard deviation of 2, and a beta distribution for theta, representing a uniform distribution between 0 and 1. The model iterates over observations, evaluating the likelihood of each observation under the Gaussian mixture using log_mix, which combines the probability densities of the two Gaussian distributions weighted by theta."
      ]
    },
    {
      "cell_type": "code",
      "execution_count": 21,
      "metadata": {
        "id": "cL5aunYLrT6N"
      },
      "outputs": [],
      "source": [
        "my_mixture=\"\"\"\n",
        "data {\n",
        " int <lower=0> N;\n",
        " vector[N] y;\n",
        "}\n",
        "\n",
        "parameters {\n",
        "  ordered[2] mu;  // This tells the sampler that always mu[1] < mu[2]\n",
        "  //real mu[2];   // Study what happens if we use this line instead of the above  (it is called 'label switching')\n",
        "  real<lower=0> sigma[2];\n",
        "  real<lower=0, upper=1> theta;\n",
        "}\n",
        "\n",
        "model {\n",
        " sigma ~ normal(0, 2);\n",
        " mu[1] ~ normal(3, 2);\n",
        " mu[2] ~ normal(3, 2);\n",
        " theta ~ beta(1, 1);  //this is a uniform flat distribution for p in (0,1)\n",
        " for (n in 1:N)\n",
        "   target += log_mix(theta,\n",
        "                     normal_lpdf(y[n] | mu[1], sigma[1]),\n",
        "                     normal_lpdf(y[n] | mu[2], sigma[2]));\n",
        "}\n",
        "\"\"\"\n",
        "\n"
      ]
    },
    {
      "cell_type": "code",
      "source": [
        "my_data={'N':len(out),'y':out}"
      ],
      "metadata": {
        "id": "sGqhYOteuXxE"
      },
      "execution_count": 22,
      "outputs": []
    },
    {
      "cell_type": "code",
      "execution_count": 23,
      "metadata": {
        "colab": {
          "base_uri": "https://localhost:8080/",
          "height": 427
        },
        "id": "lUdQI76NrT6N",
        "outputId": "105a8ce5-c4bd-4b79-f22e-cdfa05f58003"
      },
      "outputs": [
        {
          "output_type": "stream",
          "name": "stdout",
          "text": [
            "Building..."
          ]
        },
        {
          "output_type": "stream",
          "name": "stderr",
          "text": [
            "CRITICAL:httpstan:Exception while compiling `program_code`: `ValueError(\"Error in '/tmp/httpstan_ws488btq/model_s42j2vxw.stan', line 10, column 2: Declaration\\n    of arrays by placing brackets after a variable name was removed in Stan\\n    2.33.0. Instead use the array keyword before the type. This can be\\n    changed automatically using the auto-format flag to stanc\")`\n"
          ]
        },
        {
          "output_type": "stream",
          "name": "stdout",
          "text": [
            "\n"
          ]
        },
        {
          "output_type": "error",
          "ename": "RuntimeError",
          "evalue": "Error in '/tmp/httpstan_ws488btq/model_s42j2vxw.stan', line 10, column 2: Declaration\n    of arrays by placing brackets after a variable name was removed in Stan\n    2.33.0. Instead use the array keyword before the type. This can be\n    changed automatically using the auto-format flag to stanc",
          "traceback": [
            "\u001b[0;31m---------------------------------------------------------------------------\u001b[0m",
            "\u001b[0;31mRuntimeError\u001b[0m                              Traceback (most recent call last)",
            "\u001b[0;32m<ipython-input-23-83358cc9ab76>\u001b[0m in \u001b[0;36m<cell line: 1>\u001b[0;34m()\u001b[0m\n\u001b[0;32m----> 1\u001b[0;31m \u001b[0mmodel\u001b[0m \u001b[0;34m=\u001b[0m \u001b[0mstan\u001b[0m\u001b[0;34m.\u001b[0m\u001b[0mbuild\u001b[0m\u001b[0;34m(\u001b[0m\u001b[0mmy_mixture\u001b[0m\u001b[0;34m,\u001b[0m \u001b[0mdata\u001b[0m\u001b[0;34m=\u001b[0m\u001b[0mmy_data\u001b[0m\u001b[0;34m,\u001b[0m \u001b[0mrandom_seed\u001b[0m\u001b[0;34m=\u001b[0m\u001b[0;36m1\u001b[0m\u001b[0;34m)\u001b[0m\u001b[0;34m;\u001b[0m\u001b[0;34m\u001b[0m\u001b[0;34m\u001b[0m\u001b[0m\n\u001b[0m",
            "\u001b[0;32m/usr/local/lib/python3.10/dist-packages/stan/model.py\u001b[0m in \u001b[0;36mbuild\u001b[0;34m(program_code, data, random_seed)\u001b[0m\n\u001b[1;32m    517\u001b[0m \u001b[0;34m\u001b[0m\u001b[0m\n\u001b[1;32m    518\u001b[0m     \u001b[0;32mtry\u001b[0m\u001b[0;34m:\u001b[0m\u001b[0;34m\u001b[0m\u001b[0;34m\u001b[0m\u001b[0m\n\u001b[0;32m--> 519\u001b[0;31m         \u001b[0;32mreturn\u001b[0m \u001b[0masyncio\u001b[0m\u001b[0;34m.\u001b[0m\u001b[0mrun\u001b[0m\u001b[0;34m(\u001b[0m\u001b[0mgo\u001b[0m\u001b[0;34m(\u001b[0m\u001b[0;34m)\u001b[0m\u001b[0;34m)\u001b[0m\u001b[0;34m\u001b[0m\u001b[0;34m\u001b[0m\u001b[0m\n\u001b[0m\u001b[1;32m    520\u001b[0m     \u001b[0;32mexcept\u001b[0m \u001b[0mKeyboardInterrupt\u001b[0m\u001b[0;34m:\u001b[0m\u001b[0;34m\u001b[0m\u001b[0;34m\u001b[0m\u001b[0m\n\u001b[1;32m    521\u001b[0m         \u001b[0;32mreturn\u001b[0m  \u001b[0;31m# type: ignore\u001b[0m\u001b[0;34m\u001b[0m\u001b[0;34m\u001b[0m\u001b[0m\n",
            "\u001b[0;32m/usr/local/lib/python3.10/dist-packages/nest_asyncio.py\u001b[0m in \u001b[0;36mrun\u001b[0;34m(main, debug)\u001b[0m\n\u001b[1;32m     29\u001b[0m         \u001b[0mtask\u001b[0m \u001b[0;34m=\u001b[0m \u001b[0masyncio\u001b[0m\u001b[0;34m.\u001b[0m\u001b[0mensure_future\u001b[0m\u001b[0;34m(\u001b[0m\u001b[0mmain\u001b[0m\u001b[0;34m)\u001b[0m\u001b[0;34m\u001b[0m\u001b[0;34m\u001b[0m\u001b[0m\n\u001b[1;32m     30\u001b[0m         \u001b[0;32mtry\u001b[0m\u001b[0;34m:\u001b[0m\u001b[0;34m\u001b[0m\u001b[0;34m\u001b[0m\u001b[0m\n\u001b[0;32m---> 31\u001b[0;31m             \u001b[0;32mreturn\u001b[0m \u001b[0mloop\u001b[0m\u001b[0;34m.\u001b[0m\u001b[0mrun_until_complete\u001b[0m\u001b[0;34m(\u001b[0m\u001b[0mtask\u001b[0m\u001b[0;34m)\u001b[0m\u001b[0;34m\u001b[0m\u001b[0;34m\u001b[0m\u001b[0m\n\u001b[0m\u001b[1;32m     32\u001b[0m         \u001b[0;32mfinally\u001b[0m\u001b[0;34m:\u001b[0m\u001b[0;34m\u001b[0m\u001b[0;34m\u001b[0m\u001b[0m\n\u001b[1;32m     33\u001b[0m             \u001b[0;32mif\u001b[0m \u001b[0;32mnot\u001b[0m \u001b[0mtask\u001b[0m\u001b[0;34m.\u001b[0m\u001b[0mdone\u001b[0m\u001b[0;34m(\u001b[0m\u001b[0;34m)\u001b[0m\u001b[0;34m:\u001b[0m\u001b[0;34m\u001b[0m\u001b[0;34m\u001b[0m\u001b[0m\n",
            "\u001b[0;32m/usr/local/lib/python3.10/dist-packages/nest_asyncio.py\u001b[0m in \u001b[0;36mrun_until_complete\u001b[0;34m(self, future)\u001b[0m\n\u001b[1;32m     97\u001b[0m                 raise RuntimeError(\n\u001b[1;32m     98\u001b[0m                     'Event loop stopped before Future completed.')\n\u001b[0;32m---> 99\u001b[0;31m             \u001b[0;32mreturn\u001b[0m \u001b[0mf\u001b[0m\u001b[0;34m.\u001b[0m\u001b[0mresult\u001b[0m\u001b[0;34m(\u001b[0m\u001b[0;34m)\u001b[0m\u001b[0;34m\u001b[0m\u001b[0;34m\u001b[0m\u001b[0m\n\u001b[0m\u001b[1;32m    100\u001b[0m \u001b[0;34m\u001b[0m\u001b[0m\n\u001b[1;32m    101\u001b[0m     \u001b[0;32mdef\u001b[0m \u001b[0m_run_once\u001b[0m\u001b[0;34m(\u001b[0m\u001b[0mself\u001b[0m\u001b[0;34m)\u001b[0m\u001b[0;34m:\u001b[0m\u001b[0;34m\u001b[0m\u001b[0;34m\u001b[0m\u001b[0m\n",
            "\u001b[0;32m/usr/lib/python3.10/asyncio/futures.py\u001b[0m in \u001b[0;36mresult\u001b[0;34m(self)\u001b[0m\n\u001b[1;32m    199\u001b[0m         \u001b[0mself\u001b[0m\u001b[0;34m.\u001b[0m\u001b[0m__log_traceback\u001b[0m \u001b[0;34m=\u001b[0m \u001b[0;32mFalse\u001b[0m\u001b[0;34m\u001b[0m\u001b[0;34m\u001b[0m\u001b[0m\n\u001b[1;32m    200\u001b[0m         \u001b[0;32mif\u001b[0m \u001b[0mself\u001b[0m\u001b[0;34m.\u001b[0m\u001b[0m_exception\u001b[0m \u001b[0;32mis\u001b[0m \u001b[0;32mnot\u001b[0m \u001b[0;32mNone\u001b[0m\u001b[0;34m:\u001b[0m\u001b[0;34m\u001b[0m\u001b[0;34m\u001b[0m\u001b[0m\n\u001b[0;32m--> 201\u001b[0;31m             \u001b[0;32mraise\u001b[0m \u001b[0mself\u001b[0m\u001b[0;34m.\u001b[0m\u001b[0m_exception\u001b[0m\u001b[0;34m.\u001b[0m\u001b[0mwith_traceback\u001b[0m\u001b[0;34m(\u001b[0m\u001b[0mself\u001b[0m\u001b[0;34m.\u001b[0m\u001b[0m_exception_tb\u001b[0m\u001b[0;34m)\u001b[0m\u001b[0;34m\u001b[0m\u001b[0;34m\u001b[0m\u001b[0m\n\u001b[0m\u001b[1;32m    202\u001b[0m         \u001b[0;32mreturn\u001b[0m \u001b[0mself\u001b[0m\u001b[0;34m.\u001b[0m\u001b[0m_result\u001b[0m\u001b[0;34m\u001b[0m\u001b[0;34m\u001b[0m\u001b[0m\n\u001b[1;32m    203\u001b[0m \u001b[0;34m\u001b[0m\u001b[0m\n",
            "\u001b[0;32m/usr/lib/python3.10/asyncio/tasks.py\u001b[0m in \u001b[0;36m__step\u001b[0;34m(***failed resolving arguments***)\u001b[0m\n\u001b[1;32m    230\u001b[0m                 \u001b[0;31m# We use the `send` method directly, because coroutines\u001b[0m\u001b[0;34m\u001b[0m\u001b[0;34m\u001b[0m\u001b[0m\n\u001b[1;32m    231\u001b[0m                 \u001b[0;31m# don't have `__iter__` and `__next__` methods.\u001b[0m\u001b[0;34m\u001b[0m\u001b[0;34m\u001b[0m\u001b[0m\n\u001b[0;32m--> 232\u001b[0;31m                 \u001b[0mresult\u001b[0m \u001b[0;34m=\u001b[0m \u001b[0mcoro\u001b[0m\u001b[0;34m.\u001b[0m\u001b[0msend\u001b[0m\u001b[0;34m(\u001b[0m\u001b[0;32mNone\u001b[0m\u001b[0;34m)\u001b[0m\u001b[0;34m\u001b[0m\u001b[0;34m\u001b[0m\u001b[0m\n\u001b[0m\u001b[1;32m    233\u001b[0m             \u001b[0;32melse\u001b[0m\u001b[0;34m:\u001b[0m\u001b[0;34m\u001b[0m\u001b[0;34m\u001b[0m\u001b[0m\n\u001b[1;32m    234\u001b[0m                 \u001b[0mresult\u001b[0m \u001b[0;34m=\u001b[0m \u001b[0mcoro\u001b[0m\u001b[0;34m.\u001b[0m\u001b[0mthrow\u001b[0m\u001b[0;34m(\u001b[0m\u001b[0mexc\u001b[0m\u001b[0;34m)\u001b[0m\u001b[0;34m\u001b[0m\u001b[0;34m\u001b[0m\u001b[0m\n",
            "\u001b[0;32m/usr/local/lib/python3.10/dist-packages/stan/model.py\u001b[0m in \u001b[0;36mgo\u001b[0;34m()\u001b[0m\n\u001b[1;32m    496\u001b[0m                     \u001b[0;32mraise\u001b[0m \u001b[0mValueError\u001b[0m\u001b[0;34m(\u001b[0m\u001b[0merror_type\u001b[0m\u001b[0;34m)\u001b[0m\u001b[0;34m\u001b[0m\u001b[0;34m\u001b[0m\u001b[0m\n\u001b[1;32m    497\u001b[0m                 \u001b[0;32melse\u001b[0m\u001b[0;34m:\u001b[0m\u001b[0;34m\u001b[0m\u001b[0;34m\u001b[0m\u001b[0m\n\u001b[0;32m--> 498\u001b[0;31m                     \u001b[0;32mraise\u001b[0m \u001b[0mRuntimeError\u001b[0m\u001b[0;34m(\u001b[0m\u001b[0mexception_body\u001b[0m\u001b[0;34m)\u001b[0m\u001b[0;34m\u001b[0m\u001b[0;34m\u001b[0m\u001b[0m\n\u001b[0m\u001b[1;32m    499\u001b[0m             \u001b[0mbuilding_output\u001b[0m\u001b[0;34m.\u001b[0m\u001b[0mclear\u001b[0m\u001b[0;34m(\u001b[0m\u001b[0;34m)\u001b[0m \u001b[0;32mif\u001b[0m \u001b[0mio\u001b[0m\u001b[0;34m.\u001b[0m\u001b[0msupports_ansi\u001b[0m\u001b[0;34m(\u001b[0m\u001b[0;34m)\u001b[0m \u001b[0;32melse\u001b[0m \u001b[0mbuilding_output\u001b[0m\u001b[0;34m.\u001b[0m\u001b[0mwrite\u001b[0m\u001b[0;34m(\u001b[0m\u001b[0;34m\"\\n\"\u001b[0m\u001b[0;34m)\u001b[0m\u001b[0;34m\u001b[0m\u001b[0;34m\u001b[0m\u001b[0m\n\u001b[1;32m    500\u001b[0m             \u001b[0;32mif\u001b[0m \u001b[0mmodel_in_cache\u001b[0m\u001b[0;34m:\u001b[0m\u001b[0;34m\u001b[0m\u001b[0;34m\u001b[0m\u001b[0m\n",
            "\u001b[0;31mRuntimeError\u001b[0m: Error in '/tmp/httpstan_ws488btq/model_s42j2vxw.stan', line 10, column 2: Declaration\n    of arrays by placing brackets after a variable name was removed in Stan\n    2.33.0. Instead use the array keyword before the type. This can be\n    changed automatically using the auto-format flag to stanc"
          ]
        }
      ],
      "source": [
        "model = stan.build(my_mixture, data=my_data, random_seed=1);"
      ]
    },
    {
      "cell_type": "code",
      "execution_count": null,
      "metadata": {
        "id": "2xpI4ETXrT6O",
        "outputId": "7362c95f-7a5a-4323-fde2-adef6d653351"
      },
      "outputs": [
        {
          "name": "stderr",
          "output_type": "stream",
          "text": [
            "\u001b[36mSampling:\u001b[0m   0%\n",
            "\u001b[1A\u001b[0J\u001b[36mSampling:\u001b[0m   0% (1/10000)\n",
            "\u001b[1A\u001b[0J\u001b[36mSampling:\u001b[0m   0% (2/10000)\n",
            "\u001b[1A\u001b[0J\u001b[36mSampling:\u001b[0m   1% (101/10000)\n",
            "\u001b[1A\u001b[0J\u001b[36mSampling:\u001b[0m   2% (201/10000)\n",
            "\u001b[1A\u001b[0J\u001b[36mSampling:\u001b[0m   3% (300/10000)\n",
            "\u001b[1A\u001b[0J\u001b[36mSampling:\u001b[0m   4% (400/10000)\n",
            "\u001b[1A\u001b[0J\u001b[36mSampling:\u001b[0m   5% (500/10000)\n",
            "\u001b[1A\u001b[0J\u001b[36mSampling:\u001b[0m   6% (600/10000)\n",
            "\u001b[1A\u001b[0J\u001b[36mSampling:\u001b[0m   7% (700/10000)\n",
            "\u001b[1A\u001b[0J\u001b[36mSampling:\u001b[0m   8% (800/10000)\n",
            "\u001b[1A\u001b[0J\u001b[36mSampling:\u001b[0m   9% (900/10000)\n",
            "\u001b[1A\u001b[0J\u001b[36mSampling:\u001b[0m  10% (1000/10000)\n",
            "\u001b[1A\u001b[0J\u001b[36mSampling:\u001b[0m  11% (1100/10000)\n",
            "\u001b[1A\u001b[0J\u001b[36mSampling:\u001b[0m  12% (1200/10000)\n",
            "\u001b[1A\u001b[0J\u001b[36mSampling:\u001b[0m  13% (1300/10000)\n",
            "\u001b[1A\u001b[0J\u001b[36mSampling:\u001b[0m  14% (1400/10000)\n",
            "\u001b[1A\u001b[0J\u001b[36mSampling:\u001b[0m  18% (1800/10000)\n",
            "\u001b[1A\u001b[0J\u001b[36mSampling:\u001b[0m  28% (2800/10000)\n",
            "\u001b[1A\u001b[0J\u001b[36mSampling:\u001b[0m  35% (3500/10000)\n",
            "\u001b[1A\u001b[0J\u001b[36mSampling:\u001b[0m  36% (3600/10000)\n",
            "\u001b[1A\u001b[0J\u001b[36mSampling:\u001b[0m  37% (3700/10000)\n",
            "\u001b[1A\u001b[0J\u001b[36mSampling:\u001b[0m  38% (3800/10000)\n",
            "\u001b[1A\u001b[0J\u001b[36mSampling:\u001b[0m  39% (3900/10000)\n",
            "\u001b[1A\u001b[0J\u001b[36mSampling:\u001b[0m  40% (4000/10000)\n",
            "\u001b[1A\u001b[0J\u001b[32mSampling:\u001b[0m 100%, done.\n",
            "\u001b[36mMessages received during sampling:\u001b[0m\n",
            "  Gradient evaluation took 0.000337 seconds\n",
            "  1000 transitions using 10 leapfrog steps per transition would take 3.37 seconds.\n",
            "  Adjust your expectations accordingly!\n",
            "  Informational Message: The current Metropolis proposal is about to be rejected because of the following issue:\n",
            "  Exception: normal_lpdf: Location parameter is inf, but must be finite! (in '/tmp/httpstan_6n99sdup/model_ceoo3iim.stan', line 20, column 3 to line 22, column 58)\n",
            "  If this warning occurs sporadically, such as for highly constrained variable types like covariance matrices, then the sampler is fine,\n",
            "  but if this warning occurs often then your model may be either severely ill-conditioned or misspecified.\n",
            "  Gradient evaluation took 0.00012 seconds\n",
            "  1000 transitions using 10 leapfrog steps per transition would take 1.2 seconds.\n",
            "  Adjust your expectations accordingly!\n",
            "  Informational Message: The current Metropolis proposal is about to be rejected because of the following issue:\n",
            "  Exception: normal_lpdf: Location parameter is inf, but must be finite! (in '/tmp/httpstan_6n99sdup/model_ceoo3iim.stan', line 20, column 3 to line 22, column 58)\n",
            "  If this warning occurs sporadically, such as for highly constrained variable types like covariance matrices, then the sampler is fine,\n",
            "  but if this warning occurs often then your model may be either severely ill-conditioned or misspecified.\n",
            "  Informational Message: The current Metropolis proposal is about to be rejected because of the following issue:\n",
            "  Exception: normal_lpdf: Location parameter is inf, but must be finite! (in '/tmp/httpstan_6n99sdup/model_ceoo3iim.stan', line 20, column 3 to line 22, column 58)\n",
            "  If this warning occurs sporadically, such as for highly constrained variable types like covariance matrices, then the sampler is fine,\n",
            "  but if this warning occurs often then your model may be either severely ill-conditioned or misspecified.\n",
            "  Informational Message: The current Metropolis proposal is about to be rejected because of the following issue:\n",
            "  Exception: normal_lpdf: Location parameter is inf, but must be finite! (in '/tmp/httpstan_6n99sdup/model_ceoo3iim.stan', line 20, column 3 to line 22, column 58)\n",
            "  If this warning occurs sporadically, such as for highly constrained variable types like covariance matrices, then the sampler is fine,\n",
            "  but if this warning occurs often then your model may be either severely ill-conditioned or misspecified.\n",
            "  Informational Message: The current Metropolis proposal is about to be rejected because of the following issue:\n",
            "  Exception: normal_lpdf: Location parameter is inf, but must be finite! (in '/tmp/httpstan_6n99sdup/model_ceoo3iim.stan', line 20, column 3 to line 22, column 58)\n",
            "  If this warning occurs sporadically, such as for highly constrained variable types like covariance matrices, then the sampler is fine,\n",
            "  but if this warning occurs often then your model may be either severely ill-conditioned or misspecified.\n",
            "  Informational Message: The current Metropolis proposal is about to be rejected because of the following issue:\n",
            "  Exception: normal_lpdf: Location parameter is inf, but must be finite! (in '/tmp/httpstan_6n99sdup/model_ceoo3iim.stan', line 20, column 3 to line 22, column 58)\n",
            "  If this warning occurs sporadically, such as for highly constrained variable types like covariance matrices, then the sampler is fine,\n",
            "  but if this warning occurs often then your model may be either severely ill-conditioned or misspecified.\n",
            "  Gradient evaluation took 0.000142 seconds\n",
            "  1000 transitions using 10 leapfrog steps per transition would take 1.42 seconds.\n",
            "  Adjust your expectations accordingly!\n",
            "  Informational Message: The current Metropolis proposal is about to be rejected because of the following issue:\n",
            "  Exception: normal_lpdf: Location parameter is inf, but must be finite! (in '/tmp/httpstan_6n99sdup/model_ceoo3iim.stan', line 20, column 3 to line 22, column 58)\n",
            "  If this warning occurs sporadically, such as for highly constrained variable types like covariance matrices, then the sampler is fine,\n",
            "  but if this warning occurs often then your model may be either severely ill-conditioned or misspecified.\n",
            "  Gradient evaluation took 0.00014 seconds\n",
            "  1000 transitions using 10 leapfrog steps per transition would take 1.4 seconds.\n",
            "  Adjust your expectations accordingly!\n",
            "  Informational Message: The current Metropolis proposal is about to be rejected because of the following issue:\n",
            "  Exception: normal_lpdf: Scale parameter is 0, but must be positive! (in '/tmp/httpstan_6n99sdup/model_ceoo3iim.stan', line 20, column 3 to line 22, column 58)\n",
            "  If this warning occurs sporadically, such as for highly constrained variable types like covariance matrices, then the sampler is fine,\n",
            "  but if this warning occurs often then your model may be either severely ill-conditioned or misspecified.\n",
            "  Gradient evaluation took 0.000133 seconds\n",
            "  1000 transitions using 10 leapfrog steps per transition would take 1.33 seconds.\n",
            "  Adjust your expectations accordingly!\n"
          ]
        }
      ],
      "source": [
        "fit = model.sample(num_chains=5, num_samples=1000)"
      ]
    },
    {
      "cell_type": "markdown",
      "source": [
        "### now we could separate both gaussians"
      ],
      "metadata": {
        "id": "w_gB1bWZwjEV"
      }
    },
    {
      "cell_type": "code",
      "execution_count": null,
      "metadata": {
        "id": "UZfiG2i3rT6O"
      },
      "outputs": [],
      "source": [
        "df = fit.to_frame()"
      ]
    },
    {
      "cell_type": "code",
      "execution_count": null,
      "metadata": {
        "id": "baN8BIVArT6O",
        "outputId": "d320e212-2709-4965-9d02-2b6ce9a9126c"
      },
      "outputs": [
        {
          "data": {
            "text/html": [
              "<div>\n",
              "<style scoped>\n",
              "    .dataframe tbody tr th:only-of-type {\n",
              "        vertical-align: middle;\n",
              "    }\n",
              "\n",
              "    .dataframe tbody tr th {\n",
              "        vertical-align: top;\n",
              "    }\n",
              "\n",
              "    .dataframe thead th {\n",
              "        text-align: right;\n",
              "    }\n",
              "</style>\n",
              "<table border=\"1\" class=\"dataframe\">\n",
              "  <thead>\n",
              "    <tr style=\"text-align: right;\">\n",
              "      <th>parameters</th>\n",
              "      <th>lp__</th>\n",
              "      <th>accept_stat__</th>\n",
              "      <th>stepsize__</th>\n",
              "      <th>treedepth__</th>\n",
              "      <th>n_leapfrog__</th>\n",
              "      <th>divergent__</th>\n",
              "      <th>energy__</th>\n",
              "      <th>mu.1</th>\n",
              "      <th>mu.2</th>\n",
              "      <th>sigma.1</th>\n",
              "      <th>sigma.2</th>\n",
              "      <th>theta</th>\n",
              "    </tr>\n",
              "    <tr>\n",
              "      <th>draws</th>\n",
              "      <th></th>\n",
              "      <th></th>\n",
              "      <th></th>\n",
              "      <th></th>\n",
              "      <th></th>\n",
              "      <th></th>\n",
              "      <th></th>\n",
              "      <th></th>\n",
              "      <th></th>\n",
              "      <th></th>\n",
              "      <th></th>\n",
              "      <th></th>\n",
              "    </tr>\n",
              "  </thead>\n",
              "  <tbody>\n",
              "    <tr>\n",
              "      <th>0</th>\n",
              "      <td>-2081.286964</td>\n",
              "      <td>0.828670</td>\n",
              "      <td>0.120567</td>\n",
              "      <td>2.0</td>\n",
              "      <td>7.0</td>\n",
              "      <td>0.0</td>\n",
              "      <td>2083.097357</td>\n",
              "      <td>2.466486</td>\n",
              "      <td>6.040714</td>\n",
              "      <td>1.805488</td>\n",
              "      <td>0.691627</td>\n",
              "      <td>0.911918</td>\n",
              "    </tr>\n",
              "    <tr>\n",
              "      <th>1</th>\n",
              "      <td>-2077.875577</td>\n",
              "      <td>0.994540</td>\n",
              "      <td>0.060051</td>\n",
              "      <td>3.0</td>\n",
              "      <td>7.0</td>\n",
              "      <td>0.0</td>\n",
              "      <td>2079.183856</td>\n",
              "      <td>2.210275</td>\n",
              "      <td>5.523963</td>\n",
              "      <td>1.753013</td>\n",
              "      <td>1.055584</td>\n",
              "      <td>0.881072</td>\n",
              "    </tr>\n",
              "    <tr>\n",
              "      <th>2</th>\n",
              "      <td>-2078.692142</td>\n",
              "      <td>0.681846</td>\n",
              "      <td>0.146824</td>\n",
              "      <td>3.0</td>\n",
              "      <td>7.0</td>\n",
              "      <td>0.0</td>\n",
              "      <td>2083.732047</td>\n",
              "      <td>1.781341</td>\n",
              "      <td>4.743379</td>\n",
              "      <td>1.408682</td>\n",
              "      <td>1.278407</td>\n",
              "      <td>0.685911</td>\n",
              "    </tr>\n",
              "    <tr>\n",
              "      <th>3</th>\n",
              "      <td>-2082.049462</td>\n",
              "      <td>0.967822</td>\n",
              "      <td>0.157554</td>\n",
              "      <td>4.0</td>\n",
              "      <td>23.0</td>\n",
              "      <td>0.0</td>\n",
              "      <td>2083.026385</td>\n",
              "      <td>2.057336</td>\n",
              "      <td>4.578836</td>\n",
              "      <td>1.757898</td>\n",
              "      <td>1.525309</td>\n",
              "      <td>0.783214</td>\n",
              "    </tr>\n",
              "    <tr>\n",
              "      <th>4</th>\n",
              "      <td>-2076.124927</td>\n",
              "      <td>0.982889</td>\n",
              "      <td>0.098455</td>\n",
              "      <td>4.0</td>\n",
              "      <td>31.0</td>\n",
              "      <td>0.0</td>\n",
              "      <td>2078.510018</td>\n",
              "      <td>2.208948</td>\n",
              "      <td>5.512449</td>\n",
              "      <td>1.616734</td>\n",
              "      <td>1.010748</td>\n",
              "      <td>0.852655</td>\n",
              "    </tr>\n",
              "    <tr>\n",
              "      <th>...</th>\n",
              "      <td>...</td>\n",
              "      <td>...</td>\n",
              "      <td>...</td>\n",
              "      <td>...</td>\n",
              "      <td>...</td>\n",
              "      <td>...</td>\n",
              "      <td>...</td>\n",
              "      <td>...</td>\n",
              "      <td>...</td>\n",
              "      <td>...</td>\n",
              "      <td>...</td>\n",
              "      <td>...</td>\n",
              "    </tr>\n",
              "    <tr>\n",
              "      <th>4995</th>\n",
              "      <td>-2079.793190</td>\n",
              "      <td>0.685864</td>\n",
              "      <td>0.120567</td>\n",
              "      <td>2.0</td>\n",
              "      <td>3.0</td>\n",
              "      <td>0.0</td>\n",
              "      <td>2080.367844</td>\n",
              "      <td>2.129844</td>\n",
              "      <td>5.119786</td>\n",
              "      <td>1.552145</td>\n",
              "      <td>1.025597</td>\n",
              "      <td>0.822579</td>\n",
              "    </tr>\n",
              "    <tr>\n",
              "      <th>4996</th>\n",
              "      <td>-2076.382096</td>\n",
              "      <td>0.943863</td>\n",
              "      <td>0.060051</td>\n",
              "      <td>4.0</td>\n",
              "      <td>31.0</td>\n",
              "      <td>0.0</td>\n",
              "      <td>2079.356726</td>\n",
              "      <td>2.076436</td>\n",
              "      <td>5.482081</td>\n",
              "      <td>1.609151</td>\n",
              "      <td>1.026468</td>\n",
              "      <td>0.839874</td>\n",
              "    </tr>\n",
              "    <tr>\n",
              "      <th>4997</th>\n",
              "      <td>-2079.043675</td>\n",
              "      <td>0.994879</td>\n",
              "      <td>0.146824</td>\n",
              "      <td>4.0</td>\n",
              "      <td>23.0</td>\n",
              "      <td>0.0</td>\n",
              "      <td>2082.142639</td>\n",
              "      <td>2.091118</td>\n",
              "      <td>5.395731</td>\n",
              "      <td>1.581178</td>\n",
              "      <td>0.960701</td>\n",
              "      <td>0.801554</td>\n",
              "    </tr>\n",
              "    <tr>\n",
              "      <th>4998</th>\n",
              "      <td>-2078.536829</td>\n",
              "      <td>0.992421</td>\n",
              "      <td>0.157554</td>\n",
              "      <td>3.0</td>\n",
              "      <td>7.0</td>\n",
              "      <td>0.0</td>\n",
              "      <td>2079.761037</td>\n",
              "      <td>1.855363</td>\n",
              "      <td>5.039284</td>\n",
              "      <td>1.564957</td>\n",
              "      <td>1.208919</td>\n",
              "      <td>0.782371</td>\n",
              "    </tr>\n",
              "    <tr>\n",
              "      <th>4999</th>\n",
              "      <td>-2078.768782</td>\n",
              "      <td>1.000000</td>\n",
              "      <td>0.098455</td>\n",
              "      <td>2.0</td>\n",
              "      <td>3.0</td>\n",
              "      <td>0.0</td>\n",
              "      <td>2080.534452</td>\n",
              "      <td>1.904619</td>\n",
              "      <td>5.082025</td>\n",
              "      <td>1.469533</td>\n",
              "      <td>1.103704</td>\n",
              "      <td>0.796447</td>\n",
              "    </tr>\n",
              "  </tbody>\n",
              "</table>\n",
              "<p>5000 rows × 12 columns</p>\n",
              "</div>"
            ],
            "text/plain": [
              "parameters         lp__  accept_stat__  stepsize__  treedepth__  n_leapfrog__  \\\n",
              "draws                                                                           \n",
              "0          -2081.286964       0.828670    0.120567          2.0           7.0   \n",
              "1          -2077.875577       0.994540    0.060051          3.0           7.0   \n",
              "2          -2078.692142       0.681846    0.146824          3.0           7.0   \n",
              "3          -2082.049462       0.967822    0.157554          4.0          23.0   \n",
              "4          -2076.124927       0.982889    0.098455          4.0          31.0   \n",
              "...                 ...            ...         ...          ...           ...   \n",
              "4995       -2079.793190       0.685864    0.120567          2.0           3.0   \n",
              "4996       -2076.382096       0.943863    0.060051          4.0          31.0   \n",
              "4997       -2079.043675       0.994879    0.146824          4.0          23.0   \n",
              "4998       -2078.536829       0.992421    0.157554          3.0           7.0   \n",
              "4999       -2078.768782       1.000000    0.098455          2.0           3.0   \n",
              "\n",
              "parameters  divergent__     energy__      mu.1      mu.2   sigma.1   sigma.2  \\\n",
              "draws                                                                          \n",
              "0                   0.0  2083.097357  2.466486  6.040714  1.805488  0.691627   \n",
              "1                   0.0  2079.183856  2.210275  5.523963  1.753013  1.055584   \n",
              "2                   0.0  2083.732047  1.781341  4.743379  1.408682  1.278407   \n",
              "3                   0.0  2083.026385  2.057336  4.578836  1.757898  1.525309   \n",
              "4                   0.0  2078.510018  2.208948  5.512449  1.616734  1.010748   \n",
              "...                 ...          ...       ...       ...       ...       ...   \n",
              "4995                0.0  2080.367844  2.129844  5.119786  1.552145  1.025597   \n",
              "4996                0.0  2079.356726  2.076436  5.482081  1.609151  1.026468   \n",
              "4997                0.0  2082.142639  2.091118  5.395731  1.581178  0.960701   \n",
              "4998                0.0  2079.761037  1.855363  5.039284  1.564957  1.208919   \n",
              "4999                0.0  2080.534452  1.904619  5.082025  1.469533  1.103704   \n",
              "\n",
              "parameters     theta  \n",
              "draws                 \n",
              "0           0.911918  \n",
              "1           0.881072  \n",
              "2           0.685911  \n",
              "3           0.783214  \n",
              "4           0.852655  \n",
              "...              ...  \n",
              "4995        0.822579  \n",
              "4996        0.839874  \n",
              "4997        0.801554  \n",
              "4998        0.782371  \n",
              "4999        0.796447  \n",
              "\n",
              "[5000 rows x 12 columns]"
            ]
          },
          "execution_count": 54,
          "metadata": {},
          "output_type": "execute_result"
        }
      ],
      "source": [
        "df"
      ]
    },
    {
      "cell_type": "code",
      "execution_count": null,
      "metadata": {
        "id": "M8K30riWrT6P",
        "outputId": "bc4d8d41-0e50-41a9-8840-dcdb40eee5df"
      },
      "outputs": [
        {
          "data": {
            "image/png": "[encoded data removed]",
            "text/plain": [
              "<Figure size 500x500 with 1 Axes>"
            ]
          },
          "metadata": {},
          "output_type": "display_data"
        }
      ],
      "source": [
        "plt.hist(df['theta'], histtype='step', bins=40)\n",
        "plt.axvline(x=p, linestyle='dashed')\n",
        "#plt.axvline(x=1-p, linestyle='dashed')\n",
        "plt.title('Mixture corefficient p')\n",
        "plt.show()"
      ]
    },
    {
      "cell_type": "code",
      "execution_count": null,
      "metadata": {
        "id": "mb9cSmMJrT6P",
        "outputId": "bc282a09-cca3-4a99-84a4-d348d609bf2b"
      },
      "outputs": [
        {
          "data": {
            "image/png": "[encoded data removed]",
            "text/plain": [
              "<Figure size 500x500 with 1 Axes>"
            ]
          },
          "metadata": {},
          "output_type": "display_data"
        }
      ],
      "source": [
        "plt.hist(df['mu.1'],histtype='step', bins=40, label='mu1')\n",
        "plt.hist(df['mu.2'],histtype='step', bins=40, label='mu2')\n",
        "plt.axvline(x=mu0, linestyle='dashed')\n",
        "plt.axvline(x=mu1, linestyle='dashed')\n",
        "plt.title(\"Gaussian's mean $\\mu_1$ and $\\mu_2$\")\n",
        "plt.show()"
      ]
    },
    {
      "cell_type": "code",
      "execution_count": null,
      "metadata": {
        "id": "vB9gzqJprT6P",
        "outputId": "65552a55-0bff-47d5-a111-2477e35d0601"
      },
      "outputs": [
        {
          "data": {
            "image/png": "[encoded data removed]",
            "text/plain": [
              "<Figure size 500x500 with 1 Axes>"
            ]
          },
          "metadata": {},
          "output_type": "display_data"
        }
      ],
      "source": [
        "plt.hist(df['sigma.1'],histtype='step', bins=40, label='sigma1')\n",
        "plt.hist(df['sigma.2'],histtype='step', bins=40, label='sigma2')\n",
        "plt.axvline(x=sigma0, linestyle='dashed')\n",
        "plt.axvline(x=sigma1, linestyle='dashed')\n",
        "plt.title(\"Gaussian's sigmas $\\sigma_1$ and $\\sigma_2$\")\n",
        "plt.show()"
      ]
    },
    {
      "cell_type": "code",
      "execution_count": null,
      "metadata": {
        "id": "Roqp21qcrT6P"
      },
      "outputs": [],
      "source": []
    },
    {
      "cell_type": "code",
      "execution_count": null,
      "metadata": {
        "id": "6Z4IRIuUrT6P"
      },
      "outputs": [],
      "source": []
    }
  ],
  "metadata": {
    "kernelspec": {
      "display_name": "pymc_env",
      "language": "python",
      "name": "pymc_env"
    },
    "language_info": {
      "codemirror_mode": {
        "name": "ipython",
        "version": 3
      },
      "file_extension": ".py",
      "mimetype": "text/x-python",
      "name": "python",
      "nbconvert_exporter": "python",
      "pygments_lexer": "ipython3",
      "version": "3.11.0"
    },
    "colab": {
      "provenance": []
    }
  },
  "nbformat": 4,
  "nbformat_minor": 0
}